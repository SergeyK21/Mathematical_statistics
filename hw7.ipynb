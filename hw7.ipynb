{
 "cells": [
  {
   "cell_type": "code",
   "execution_count": 1,
   "id": "d5e66350",
   "metadata": {},
   "outputs": [],
   "source": [
    "import numpy as np\n",
    "import matplotlib.pyplot as plt\n",
    "import pandas as pd"
   ]
  },
  {
   "cell_type": "markdown",
   "id": "e1a6bdc0",
   "metadata": {},
   "source": [
    "__1. Даны значения величины заработной платы заемщиков банка (zp) и значения их поведенческого кредитного скоринга (ks):<br>\n",
    "zp = [35, 45, 190, 200, 40, 70, 54, 150, 120, 110],<br>\n",
    "ks = [401, 574, 874, 919, 459, 739, 653, 902, 746, 832].<br>\n",
    "Используя математические операции, посчитать коэффициенты линейной регрессии, приняв за X заработную плату (то есть, zp - признак), а за y - значения скорингового балла (то есть, ks - целевая переменная). Произвести расчет как с использованием intercept, так и без.__"
   ]
  },
  {
   "cell_type": "code",
   "execution_count": 2,
   "id": "74488a23",
   "metadata": {},
   "outputs": [
    {
     "name": "stdout",
     "output_type": "stream",
     "text": [
      "b =  2.6205\n"
     ]
    }
   ],
   "source": [
    "x = np.array([35, 45, 190, 200, 40, 70, 54, 150, 120, 110])\n",
    "y = np.array([401, 574, 874, 919, 459, 739, 653, 902, 746, 832])\n",
    "n = 10\n",
    "b = (np.mean(x * y) - np.mean(x) * np.mean(y)) / (np.mean(x ** 2) - np.mean(x) ** 2)\n",
    "print(f\"b = {b: .4f}\")"
   ]
  },
  {
   "cell_type": "code",
   "execution_count": 3,
   "id": "502b7d77",
   "metadata": {},
   "outputs": [
    {
     "name": "stdout",
     "output_type": "stream",
     "text": [
      "a =  444.1774\n"
     ]
    }
   ],
   "source": [
    "a = np.mean(y) - b * np.mean(x)\n",
    "print(f\"a = {a: .4f}\")\n"
   ]
  },
  {
   "cell_type": "markdown",
   "id": "d6841d9e",
   "metadata": {},
   "source": [
    "Уравнение регрессии имеет вид (коэффициенты округлены до сотых)<br>\n",
    "$y=a+b\\cdot x;$<br>\n",
    "$y=444.2+2.6 \\cdot x$"
   ]
  },
  {
   "cell_type": "markdown",
   "id": "4d433a31",
   "metadata": {},
   "source": [
    "Найдем коэффициент корреляции $r$ с помощью коэффициента $b$ и средних квадратических отклонений посчитанных для массивов $x$ и $y$:"
   ]
  },
  {
   "cell_type": "code",
   "execution_count": 4,
   "id": "d06c8305",
   "metadata": {},
   "outputs": [
    {
     "data": {
      "text/plain": [
       "0.8874900920739162"
      ]
     },
     "execution_count": 4,
     "metadata": {},
     "output_type": "execute_result"
    }
   ],
   "source": [
    "r = b * np.std(x) / np.std(y)\n",
    "r"
   ]
  },
  {
   "cell_type": "markdown",
   "id": "25af1375",
   "metadata": {},
   "source": [
    "Найдем коэффициент детерминации $R^2$"
   ]
  },
  {
   "cell_type": "code",
   "execution_count": 5,
   "id": "8e763264",
   "metadata": {},
   "outputs": [
    {
     "data": {
      "text/plain": [
       "0.7876386635293682"
      ]
     },
     "execution_count": 5,
     "metadata": {},
     "output_type": "execute_result"
    }
   ],
   "source": [
    "R2 = r**2\n",
    "R2"
   ]
  },
  {
   "cell_type": "markdown",
   "id": "9a694b8b",
   "metadata": {},
   "source": [
    "Это означает, что 78.76 % значений скоринговых баллов $(y)$ объясняются вариацией фактора ч - заработной платой.<br>\n",
    "$y_{пред.}=a+bx$<br>\n",
    "С помощью этого уравнения регрессии посчитаем значения, предсказанное моделью:"
   ]
  },
  {
   "cell_type": "code",
   "execution_count": 6,
   "id": "ddab79fa",
   "metadata": {},
   "outputs": [
    {
     "data": {
      "text/plain": [
       "array([535.89621821, 562.10160703, 942.07974498, 968.2851338 ,\n",
       "       548.99891262, 627.61507909, 585.68645697, 837.25818968,\n",
       "       758.64202321, 732.43663439])"
      ]
     },
     "execution_count": 6,
     "metadata": {},
     "output_type": "execute_result"
    }
   ],
   "source": [
    "y_pred = a + b * x\n",
    "y_pred"
   ]
  },
  {
   "cell_type": "markdown",
   "id": "d5d3b99b",
   "metadata": {},
   "source": [
    "Качество модели найдем с помощью средней ошибки аппроксимации $A_{ср.}$:"
   ]
  },
  {
   "cell_type": "code",
   "execution_count": 7,
   "id": "45982878",
   "metadata": {},
   "outputs": [
    {
     "data": {
      "text/plain": [
       "11.46925184356171"
      ]
     },
     "execution_count": 7,
     "metadata": {},
     "output_type": "execute_result"
    }
   ],
   "source": [
    "A_mean = 100 * np.mean(np.abs((y - y_pred) / y))\n",
    "A_mean"
   ]
  },
  {
   "cell_type": "markdown",
   "id": "0ef38ac1",
   "metadata": {},
   "source": [
    "Так как $A_{ср.} = 11.5$%, что привышает $10$%, модель плохо описывает эмпирические данные. Для оценки значимости уравнения регрессии воспользуемся <font color = red> $F-критерием Фишера$ </font>. Найдем фактисеское значение $(F_{факт.})$:"
   ]
  },
  {
   "cell_type": "code",
   "execution_count": 8,
   "id": "e7d2d7d8",
   "metadata": {},
   "outputs": [
    {
     "data": {
      "text/plain": [
       "29.671640859664432"
      ]
     },
     "execution_count": 8,
     "metadata": {},
     "output_type": "execute_result"
    }
   ],
   "source": [
    "F_fact = (r**2 * (n-2)) / (1 - r**2)\n",
    "F_fact"
   ]
  },
  {
   "cell_type": "markdown",
   "id": "249743bd",
   "metadata": {},
   "source": [
    "При 5% уровне значимости и степени свободы $k_1=1 и k_2=10-2=8$ табличное значение $F_{кр.}=5.32$. Так как $F_{факт.}=20.79>F_{кр.}=5.32$, уравнение регрессии статистически значимо. "
   ]
  },
  {
   "cell_type": "markdown",
   "id": "73e14b0e",
   "metadata": {},
   "source": [
    "Для оценки статистической значимости параметров регрессии воспользуемся t-статистикой Стьюдента и также рассчитаем доверительные интервалы каждого из показателей. При $df=n-2=10-2=8$ и $\\alpha=0.05$ получим (см. Таблицу критических значений t-критерия Стьюдента):<br>\n",
    "$$t_{кр.} = 2.306$$"
   ]
  },
  {
   "cell_type": "markdown",
   "id": "c0fd0607",
   "metadata": {},
   "source": [
    "Определим стандартную ошибку $S_{ост.}$ и случайные ошибки $m_a$, $m_b$."
   ]
  },
  {
   "cell_type": "code",
   "execution_count": 9,
   "id": "d527ee5f",
   "metadata": {},
   "outputs": [
    {
     "name": "stdout",
     "output_type": "stream",
     "text": [
      "s_residual = 89.93340731602925\n",
      "m_a = 56.466497550681524\n",
      "m_b = 0.48108279568516\n"
     ]
    }
   ],
   "source": [
    "s_residual = np.sqrt(np.sum((y - y_pred) ** 2) / (n - 2))\n",
    "print(f\"s_residual = {s_residual}\")\n",
    "m_a = s_residual * np.sqrt(np.sum(x ** 2)) / (n * np.std(x))\n",
    "print(f\"m_a = {m_a}\")\n",
    "m_b = s_residual / (np.std(x) * np.sqrt(n))\n",
    "print(f\"m_b = {m_b}\")"
   ]
  },
  {
   "cell_type": "markdown",
   "id": "bd0c36a4",
   "metadata": {},
   "source": [
    "Вычислим наблюдаемые значения критерия $t_a$ и $t_b$:"
   ]
  },
  {
   "cell_type": "code",
   "execution_count": 10,
   "id": "f8ed169f",
   "metadata": {},
   "outputs": [
    {
     "data": {
      "text/plain": [
       "7.866210524668864"
      ]
     },
     "execution_count": 10,
     "metadata": {},
     "output_type": "execute_result"
    }
   ],
   "source": [
    "t_a = a / m_a\n",
    "t_a"
   ]
  },
  {
   "cell_type": "code",
   "execution_count": 11,
   "id": "2fc61abc",
   "metadata": {},
   "outputs": [
    {
     "data": {
      "text/plain": [
       "5.447168150485579"
      ]
     },
     "execution_count": 11,
     "metadata": {},
     "output_type": "execute_result"
    }
   ],
   "source": [
    "t_b = b / m_b\n",
    "t_b"
   ]
  },
  {
   "cell_type": "markdown",
   "id": "13f41a19",
   "metadata": {},
   "source": [
    "Фактические значения <font color = red>$t-статистики$</font> больше табличного значения:"
   ]
  },
  {
   "cell_type": "markdown",
   "id": "461f21fd",
   "metadata": {},
   "source": [
    "$$t_a =7.8662>t_{кр.}=2.306, t_b =5.4472>t_{кр.}=2.306$$"
   ]
  },
  {
   "cell_type": "markdown",
   "id": "d51f4d69",
   "metadata": {},
   "source": [
    "Поэтому параметры $a$ и $b$ статистически значимы."
   ]
  },
  {
   "cell_type": "markdown",
   "id": "03bc54d3",
   "metadata": {},
   "source": [
    "Рассчитаем доверительные интервалы для параметров регрессии $a$ и $b$. Для этого определим предельную ошибку для каждого показателя ($\\Delta_a$ и $\\Delta_b$) используя значение $t_{кр.} = 2.306$:"
   ]
  },
  {
   "cell_type": "code",
   "execution_count": 12,
   "id": "eba6c689",
   "metadata": {},
   "outputs": [
    {
     "data": {
      "text/plain": [
       "130.2117433518716"
      ]
     },
     "execution_count": 12,
     "metadata": {},
     "output_type": "execute_result"
    }
   ],
   "source": [
    "t_cr = 2.306\n",
    "\n",
    "delta_a = t_cr * m_a\n",
    "delta_a"
   ]
  },
  {
   "cell_type": "code",
   "execution_count": 13,
   "id": "6fef207d",
   "metadata": {},
   "outputs": [
    {
     "data": {
      "text/plain": [
       "1.109376926849979"
      ]
     },
     "execution_count": 13,
     "metadata": {},
     "output_type": "execute_result"
    }
   ],
   "source": [
    "delta_b = t_cr * m_b\n",
    "delta_b"
   ]
  },
  {
   "cell_type": "markdown",
   "id": "1493191f",
   "metadata": {},
   "source": [
    "Найдем границы доверительных интервалах $\\Upsilon_{a_{min}}$, $\\Upsilon_{a_{max}}$, $\\Upsilon_{b_{min}}$, $\\Upsilon_{b_{max}}$ "
   ]
  },
  {
   "cell_type": "code",
   "execution_count": 14,
   "id": "9ce1ec4f",
   "metadata": {},
   "outputs": [
    {
     "name": "stdout",
     "output_type": "stream",
     "text": [
      "a->[ 313.9656,  574.3891]\n",
      "b->[ 1.5112,  3.7299]\n"
     ]
    }
   ],
   "source": [
    "gamma_a_min = a - delta_a;\n",
    "gamma_a_max = a + delta_a;\n",
    "gamma_b_min = b - delta_b;\n",
    "gamma_b_max = b + delta_b;\n",
    "print(f\"a->[{gamma_a_min: .4f}, {gamma_a_max: .4f}]\")\n",
    "print(f\"b->[{gamma_b_min: .4f}, {gamma_b_max: .4f}]\")"
   ]
  },
  {
   "cell_type": "markdown",
   "id": "44d6e33d",
   "metadata": {},
   "source": [
    "С вероятностью 95% параметры $a$ и $b$, находятся в указанных границах, являются статистически значимыми и отличны от нуля.<br>\n",
    "Поместим исходные и предсказанные значения в датафрейм __df__:"
   ]
  },
  {
   "cell_type": "code",
   "execution_count": 15,
   "id": "96533cd5",
   "metadata": {},
   "outputs": [
    {
     "data": {
      "text/html": [
       "<div>\n",
       "<style scoped>\n",
       "    .dataframe tbody tr th:only-of-type {\n",
       "        vertical-align: middle;\n",
       "    }\n",
       "\n",
       "    .dataframe tbody tr th {\n",
       "        vertical-align: top;\n",
       "    }\n",
       "\n",
       "    .dataframe thead th {\n",
       "        text-align: right;\n",
       "    }\n",
       "</style>\n",
       "<table border=\"1\" class=\"dataframe\">\n",
       "  <thead>\n",
       "    <tr style=\"text-align: right;\">\n",
       "      <th></th>\n",
       "      <th>x</th>\n",
       "      <th>y</th>\n",
       "      <th>y_pred</th>\n",
       "    </tr>\n",
       "  </thead>\n",
       "  <tbody>\n",
       "    <tr>\n",
       "      <th>0</th>\n",
       "      <td>35</td>\n",
       "      <td>401</td>\n",
       "      <td>535.896218</td>\n",
       "    </tr>\n",
       "    <tr>\n",
       "      <th>1</th>\n",
       "      <td>45</td>\n",
       "      <td>574</td>\n",
       "      <td>562.101607</td>\n",
       "    </tr>\n",
       "    <tr>\n",
       "      <th>2</th>\n",
       "      <td>190</td>\n",
       "      <td>874</td>\n",
       "      <td>942.079745</td>\n",
       "    </tr>\n",
       "    <tr>\n",
       "      <th>3</th>\n",
       "      <td>200</td>\n",
       "      <td>919</td>\n",
       "      <td>968.285134</td>\n",
       "    </tr>\n",
       "    <tr>\n",
       "      <th>4</th>\n",
       "      <td>40</td>\n",
       "      <td>459</td>\n",
       "      <td>548.998913</td>\n",
       "    </tr>\n",
       "    <tr>\n",
       "      <th>5</th>\n",
       "      <td>70</td>\n",
       "      <td>739</td>\n",
       "      <td>627.615079</td>\n",
       "    </tr>\n",
       "    <tr>\n",
       "      <th>6</th>\n",
       "      <td>54</td>\n",
       "      <td>653</td>\n",
       "      <td>585.686457</td>\n",
       "    </tr>\n",
       "    <tr>\n",
       "      <th>7</th>\n",
       "      <td>150</td>\n",
       "      <td>902</td>\n",
       "      <td>837.258190</td>\n",
       "    </tr>\n",
       "    <tr>\n",
       "      <th>8</th>\n",
       "      <td>120</td>\n",
       "      <td>746</td>\n",
       "      <td>758.642023</td>\n",
       "    </tr>\n",
       "    <tr>\n",
       "      <th>9</th>\n",
       "      <td>110</td>\n",
       "      <td>832</td>\n",
       "      <td>732.436634</td>\n",
       "    </tr>\n",
       "  </tbody>\n",
       "</table>\n",
       "</div>"
      ],
      "text/plain": [
       "     x    y      y_pred\n",
       "0   35  401  535.896218\n",
       "1   45  574  562.101607\n",
       "2  190  874  942.079745\n",
       "3  200  919  968.285134\n",
       "4   40  459  548.998913\n",
       "5   70  739  627.615079\n",
       "6   54  653  585.686457\n",
       "7  150  902  837.258190\n",
       "8  120  746  758.642023\n",
       "9  110  832  732.436634"
      ]
     },
     "execution_count": 15,
     "metadata": {},
     "output_type": "execute_result"
    }
   ],
   "source": [
    "df = pd.DataFrame({'x':x,'y':y,'y_pred':y_pred}, columns=['x','y','y_pred'])\n",
    "df"
   ]
  },
  {
   "cell_type": "code",
   "execution_count": 16,
   "id": "ee85bb09",
   "metadata": {},
   "outputs": [
    {
     "data": {
      "text/html": [
       "<div>\n",
       "<style scoped>\n",
       "    .dataframe tbody tr th:only-of-type {\n",
       "        vertical-align: middle;\n",
       "    }\n",
       "\n",
       "    .dataframe tbody tr th {\n",
       "        vertical-align: top;\n",
       "    }\n",
       "\n",
       "    .dataframe thead th {\n",
       "        text-align: right;\n",
       "    }\n",
       "</style>\n",
       "<table border=\"1\" class=\"dataframe\">\n",
       "  <thead>\n",
       "    <tr style=\"text-align: right;\">\n",
       "      <th></th>\n",
       "      <th>x</th>\n",
       "      <th>y</th>\n",
       "      <th>y_pred</th>\n",
       "    </tr>\n",
       "  </thead>\n",
       "  <tbody>\n",
       "    <tr>\n",
       "      <th>0</th>\n",
       "      <td>35</td>\n",
       "      <td>401</td>\n",
       "      <td>535.896218</td>\n",
       "    </tr>\n",
       "    <tr>\n",
       "      <th>4</th>\n",
       "      <td>40</td>\n",
       "      <td>459</td>\n",
       "      <td>548.998913</td>\n",
       "    </tr>\n",
       "    <tr>\n",
       "      <th>1</th>\n",
       "      <td>45</td>\n",
       "      <td>574</td>\n",
       "      <td>562.101607</td>\n",
       "    </tr>\n",
       "    <tr>\n",
       "      <th>6</th>\n",
       "      <td>54</td>\n",
       "      <td>653</td>\n",
       "      <td>585.686457</td>\n",
       "    </tr>\n",
       "    <tr>\n",
       "      <th>5</th>\n",
       "      <td>70</td>\n",
       "      <td>739</td>\n",
       "      <td>627.615079</td>\n",
       "    </tr>\n",
       "    <tr>\n",
       "      <th>9</th>\n",
       "      <td>110</td>\n",
       "      <td>832</td>\n",
       "      <td>732.436634</td>\n",
       "    </tr>\n",
       "    <tr>\n",
       "      <th>8</th>\n",
       "      <td>120</td>\n",
       "      <td>746</td>\n",
       "      <td>758.642023</td>\n",
       "    </tr>\n",
       "    <tr>\n",
       "      <th>7</th>\n",
       "      <td>150</td>\n",
       "      <td>902</td>\n",
       "      <td>837.258190</td>\n",
       "    </tr>\n",
       "    <tr>\n",
       "      <th>2</th>\n",
       "      <td>190</td>\n",
       "      <td>874</td>\n",
       "      <td>942.079745</td>\n",
       "    </tr>\n",
       "    <tr>\n",
       "      <th>3</th>\n",
       "      <td>200</td>\n",
       "      <td>919</td>\n",
       "      <td>968.285134</td>\n",
       "    </tr>\n",
       "  </tbody>\n",
       "</table>\n",
       "</div>"
      ],
      "text/plain": [
       "     x    y      y_pred\n",
       "0   35  401  535.896218\n",
       "4   40  459  548.998913\n",
       "1   45  574  562.101607\n",
       "6   54  653  585.686457\n",
       "5   70  739  627.615079\n",
       "9  110  832  732.436634\n",
       "8  120  746  758.642023\n",
       "7  150  902  837.258190\n",
       "2  190  874  942.079745\n",
       "3  200  919  968.285134"
      ]
     },
     "execution_count": 16,
     "metadata": {},
     "output_type": "execute_result"
    }
   ],
   "source": [
    "df = df.sort_values('x')\n",
    "df"
   ]
  },
  {
   "cell_type": "code",
   "execution_count": 17,
   "id": "d9b04fa5",
   "metadata": {},
   "outputs": [
    {
     "data": {
      "image/png": "[encoded data removed]",
      "text/plain": [
       "<Figure size 432x288 with 1 Axes>"
      ]
     },
     "metadata": {
      "needs_background": "light"
     },
     "output_type": "display_data"
    }
   ],
   "source": [
    "plt.scatter(df['x'], df['y'])\n",
    "plt.plot(df['x'], df['y_pred'])\n",
    "plt.xlabel('Заработная плата')\n",
    "plt.ylabel('Значение скорингово балла')\n",
    "plt.show()"
   ]
  }
 ],
 "metadata": {
  "kernelspec": {
   "display_name": "Python 3 (ipykernel)",
   "language": "python",
   "name": "python3"
  },
  "language_info": {
   "codemirror_mode": {
    "name": "ipython",
    "version": 3
   },
   "file_extension": ".py",
   "mimetype": "text/x-python",
   "name": "python",
   "nbconvert_exporter": "python",
   "pygments_lexer": "ipython3",
   "version": "3.9.7"
  }
 },
 "nbformat": 4,
 "nbformat_minor": 5
}
