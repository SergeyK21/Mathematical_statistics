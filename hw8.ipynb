{
 "cells": [
  {
   "cell_type": "markdown",
   "id": "ef761bb9",
   "metadata": {},
   "source": [
    "__1. Провести дисперсионный анализ для определения того, есть ли различия среднего роста среди взрослых футболистов, хоккеистов и штангистов. Даны значения роста в трех группах случайно выбранных спортсменов: <br>\n",
    "Футболисты: 173, 175, 180, 178, 177, 185, 183, 182. <br>\n",
    "Хоккеисты: 177, 179, 180, 188, 177, 172, 171, 184, 180.<br> \n",
    "Штангисты: 172, 173, 169, 177, 166, 180, 178, 177, 172, 166, 170.<br> \n",
    "alpha = 0.05.__"
   ]
  },
  {
   "cell_type": "code",
   "execution_count": 1,
   "id": "ed921318",
   "metadata": {},
   "outputs": [
    {
     "name": "stdout",
     "output_type": "stream",
     "text": [
      "y1_mean = 179.125\n",
      "y2_mean = 178.66666666666666\n",
      "y3_mean = 172.72727272727272\n"
     ]
    }
   ],
   "source": [
    "import numpy as np\n",
    "\n",
    "k = 3\n",
    "y1 = np.array([173, 175, 180, 178, 177, 185, 183, 182], dtype=np.float64)\n",
    "y2 = np.array([177, 179, 180, 188, 177, 172, 171, 184, 180], dtype=np.float64)\n",
    "y3 = np.array([172, 173, 169, 177, 166, 180, 178, 177, 172, 166, 170], dtype=np.float64)\n",
    "\n",
    "n1 = len(y1)\n",
    "n2 = len(y2)\n",
    "n3 = len(y3)\n",
    "\n",
    "n = n1 + n2 + n3\n",
    "\n",
    "y1_mean = y1.mean()\n",
    "print(f\"y1_mean = {y1_mean}\")\n",
    "\n",
    "y2_mean = y2.mean()\n",
    "print(f\"y2_mean = {y2_mean}\")\n",
    "\n",
    "y3_mean = y3.mean()\n",
    "print(f\"y3_mean = {y3_mean}\")\n"
   ]
  },
  {
   "cell_type": "code",
   "execution_count": 2,
   "id": "1f3251d8",
   "metadata": {},
   "outputs": [
    {
     "data": {
      "text/plain": [
       "array([173., 175., 180., 178., 177., 185., 183., 182., 177., 179., 180.,\n",
       "       188., 177., 172., 171., 184., 180., 172., 173., 169., 177., 166.,\n",
       "       180., 178., 177., 172., 166., 170.])"
      ]
     },
     "execution_count": 2,
     "metadata": {},
     "output_type": "execute_result"
    }
   ],
   "source": [
    "y_all = np.concatenate([y1, y2, y3])\n",
    "y_all"
   ]
  },
  {
   "cell_type": "code",
   "execution_count": 3,
   "id": "53bf5cd4",
   "metadata": {},
   "outputs": [
    {
     "name": "stdout",
     "output_type": "stream",
     "text": [
      "y_mean = 176.46428571428572\n"
     ]
    }
   ],
   "source": [
    "y_mean = y_all.mean()\n",
    "print(f\"y_mean = {y_mean}\")"
   ]
  },
  {
   "cell_type": "markdown",
   "id": "0500cf07",
   "metadata": {},
   "source": [
    "Найдем $S^2$ - сумму квадратов отклонений наблюдений от общего среднего:"
   ]
  },
  {
   "cell_type": "code",
   "execution_count": 4,
   "id": "05a45db4",
   "metadata": {},
   "outputs": [
    {
     "data": {
      "text/plain": [
       "830.9642857142854"
      ]
     },
     "execution_count": 4,
     "metadata": {},
     "output_type": "execute_result"
    }
   ],
   "source": [
    "S2 = np.sum((y_all - y_mean)**2)\n",
    "S2"
   ]
  },
  {
   "cell_type": "markdown",
   "id": "7f4ccb38",
   "metadata": {},
   "source": [
    "Найдем $S^2_F$ - сумму квадратов отклонений наблюдений от средних групповых значений от общего среднего:"
   ]
  },
  {
   "cell_type": "code",
   "execution_count": 5,
   "id": "ad2bfaa5",
   "metadata": {},
   "outputs": [
    {
     "data": {
      "text/plain": [
       "253.9074675324678"
      ]
     },
     "execution_count": 5,
     "metadata": {},
     "output_type": "execute_result"
    }
   ],
   "source": [
    "S2_f = ((y1_mean - y_mean)**2)*n1 + ((y2_mean - y_mean)**2)*n2 + ((y3_mean - y_mean)**2)*n3\n",
    "S2_f"
   ]
  },
  {
   "cell_type": "markdown",
   "id": "323f4de7",
   "metadata": {},
   "source": [
    "Найдем $S^2_{ост.}$ - остаточную сумму квадратов отклонений:"
   ]
  },
  {
   "cell_type": "code",
   "execution_count": 6,
   "id": "44e8fd77",
   "metadata": {},
   "outputs": [
    {
     "data": {
      "text/plain": [
       "577.0568181818182"
      ]
     },
     "execution_count": 6,
     "metadata": {},
     "output_type": "execute_result"
    }
   ],
   "source": [
    "S2_residual = np.sum((y1-y1_mean)**2) + np.sum((y2-y2_mean)**2) + np.sum((y3-y3_mean)**2)\n",
    "S2_residual"
   ]
  },
  {
   "cell_type": "markdown",
   "id": "34324105",
   "metadata": {},
   "source": [
    "Проверим равенство $S^2 = S^2_F + S^2_{ост.}$"
   ]
  },
  {
   "cell_type": "code",
   "execution_count": 7,
   "id": "15a4cafd",
   "metadata": {},
   "outputs": [
    {
     "name": "stdout",
     "output_type": "stream",
     "text": [
      "830.9642857142854\n",
      "830.964285714286\n"
     ]
    }
   ],
   "source": [
    "print(S2)\n",
    "print(S2_f + S2_residual)"
   ]
  },
  {
   "cell_type": "markdown",
   "id": "3423dca8",
   "metadata": {},
   "source": [
    "Найдем общую дисперсию:"
   ]
  },
  {
   "cell_type": "code",
   "execution_count": 8,
   "id": "5d31ce06",
   "metadata": {},
   "outputs": [
    {
     "data": {
      "text/plain": [
       "30.776455026455015"
      ]
     },
     "execution_count": 8,
     "metadata": {},
     "output_type": "execute_result"
    }
   ],
   "source": [
    "sigma2_general = S2 / (n - 1)\n",
    "sigma2_general"
   ]
  },
  {
   "cell_type": "markdown",
   "id": "de4f48df",
   "metadata": {},
   "source": [
    "Найдем факторную дисперсию:"
   ]
  },
  {
   "cell_type": "code",
   "execution_count": 9,
   "id": "7642fa5e",
   "metadata": {},
   "outputs": [
    {
     "data": {
      "text/plain": [
       "126.9537337662339"
      ]
     },
     "execution_count": 9,
     "metadata": {},
     "output_type": "execute_result"
    }
   ],
   "source": [
    "sigma2_f = S2_f / (k - 1)\n",
    "sigma2_f"
   ]
  },
  {
   "cell_type": "markdown",
   "id": "bf7b16ee",
   "metadata": {},
   "source": [
    "Найдем остаточную дисперсию:"
   ]
  },
  {
   "cell_type": "code",
   "execution_count": 10,
   "id": "b45c400e",
   "metadata": {},
   "outputs": [
    {
     "data": {
      "text/plain": [
       "23.08227272727273"
      ]
     },
     "execution_count": 10,
     "metadata": {},
     "output_type": "execute_result"
    }
   ],
   "source": [
    "sigma2_residual = S2_residual / (n - k)\n",
    "sigma2_residual"
   ]
  },
  {
   "cell_type": "markdown",
   "id": "33a2a68c",
   "metadata": {},
   "source": [
    "Вычислим $F_H$:"
   ]
  },
  {
   "cell_type": "code",
   "execution_count": 11,
   "id": "f8dae705",
   "metadata": {},
   "outputs": [
    {
     "data": {
      "text/plain": [
       "5.500053450812598"
      ]
     },
     "execution_count": 11,
     "metadata": {},
     "output_type": "execute_result"
    }
   ],
   "source": [
    "F_h = sigma2_f / sigma2_residual\n",
    "F_h"
   ]
  },
  {
   "cell_type": "markdown",
   "id": "145aee2f",
   "metadata": {},
   "source": [
    "Найдем значение $F_{крит.}$ в таблице распределения <font color = red>Фишера-Снедекора</font> для заданного уровня значимости $\\alpha = 0.05$ и двух степеней свободы: <br>\n",
    "$df_{межд} = k - 1 = 3 - 1 =$ <font color = red>$2$</font> и $df_{внутр} = n - k = 28 - 3 =$ <font color = red>$25$</font>.<br>\n",
    "Для данных значений <font color = red>$F_{крит} = 3.38$</font>. Так как $F_H > F_{крит}$, различие средних в трех группах <font color = red>статистически значимо</font>"
   ]
  },
  {
   "cell_type": "markdown",
   "id": "6ce1c586",
   "metadata": {},
   "source": [
    "Также вычислим эмпирическое корреляционное отношение $\\eta^2$:"
   ]
  },
  {
   "cell_type": "code",
   "execution_count": 12,
   "id": "5d077abd",
   "metadata": {},
   "outputs": [
    {
     "data": {
      "text/plain": [
       "0.30555761769498"
      ]
     },
     "execution_count": 12,
     "metadata": {},
     "output_type": "execute_result"
    }
   ],
   "source": [
    "eta2 = S2_f / S2\n",
    "eta2"
   ]
  },
  {
   "cell_type": "markdown",
   "id": "5fd87777",
   "metadata": {},
   "source": [
    "Значение $\\eta^2$ имеет <font color = red>слабую</font> корреляционную связь $(\\eta^2<\\frac{1}{2}) =>$<br>\n",
    "Требуются дополнительные исследования"
   ]
  }
 ],
 "metadata": {
  "kernelspec": {
   "display_name": "Python 3 (ipykernel)",
   "language": "python",
   "name": "python3"
  },
  "language_info": {
   "codemirror_mode": {
    "name": "ipython",
    "version": 3
   },
   "file_extension": ".py",
   "mimetype": "text/x-python",
   "name": "python",
   "nbconvert_exporter": "python",
   "pygments_lexer": "ipython3",
   "version": "3.9.7"
  }
 },
 "nbformat": 4,
 "nbformat_minor": 5
}
