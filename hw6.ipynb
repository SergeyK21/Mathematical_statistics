{
 "cells": [
  {
   "cell_type": "markdown",
   "id": "16961436",
   "metadata": {},
   "source": [
    "__1. Даны значения величины заработной платы заемщиков банка (zp) и значения их поведенческого кредитного скоринга (ks):<br>\n",
    "zp = [35, 45, 190, 200, 40, 70, 54, 150, 120, 110],<br>\n",
    "ks = [401, 574, 874, 919, 459, 739, 653, 902, 746, 832].<br>\n",
    "Найдите ковариацию этих двух величин с помощью элементарных действий, а затем с помощью функции cov из numpy\n",
    "Полученные значения должны быть равны.\n",
    "Найдите коэффициент корреляции Пирсона с помощью ковариации и среднеквадратичных отклонений двух признаков,\n",
    "а затем с использованием функций из библиотек numpy и pandas.__"
   ]
  },
  {
   "cell_type": "code",
   "execution_count": 1,
   "id": "81ce3ad3",
   "metadata": {},
   "outputs": [
    {
     "name": "stdout",
     "output_type": "stream",
     "text": [
      "M(x) = 101.4\n",
      "M(y) = 709.9\n",
      "M(xy) = 81141.7\n",
      "Коввариация - cov(xy) = M(xy) - M(x)*M(y) = 9157.839999999997\n"
     ]
    }
   ],
   "source": [
    "import numpy as np\n",
    "import math\n",
    "zp = np.array([35, 45, 190, 200, 40, 70, 54, 150, 120, 110])\n",
    "ks = np.array([401, 574, 874, 919, 459, 739, 653, 902, 746, 832])\n",
    "\n",
    "print(f\"M(x) = {zp.mean()}\")\n",
    "\n",
    "print(f\"M(y) = {ks.mean()}\")\n",
    "\n",
    "print(f\"M(xy) = {(zp * ks).mean()}\")\n",
    "\n",
    "cov = (zp * ks).mean() - zp.mean() * ks.mean()\n",
    "print(f\"Коввариация - cov(xy) = M(xy) - M(x)*M(y) = {cov}\")"
   ]
  },
  {
   "cell_type": "code",
   "execution_count": 2,
   "id": "8edb6d5b",
   "metadata": {},
   "outputs": [
    {
     "data": {
      "text/plain": [
       "array([[ 3494.64,  9157.84],\n",
       "       [ 9157.84, 30468.89]])"
      ]
     },
     "execution_count": 2,
     "metadata": {},
     "output_type": "execute_result"
    }
   ],
   "source": [
    "np.cov(zp, ks, ddof=0)"
   ]
  },
  {
   "cell_type": "code",
   "execution_count": 3,
   "id": "c69fe10e",
   "metadata": {},
   "outputs": [
    {
     "name": "stdout",
     "output_type": "stream",
     "text": [
      "коэффициент корреляции Пирсона =  0.8875\n"
     ]
    }
   ],
   "source": [
    "print(f\"коэффициент корреляции Пирсона = {cov / (zp.std(ddof=0) * ks.std(ddof=0)): .4f}\")"
   ]
  },
  {
   "cell_type": "markdown",
   "id": "a00bd23a",
   "metadata": {},
   "source": [
    "Вывод: $r_{xy} = 0.8875; r_{xy}->1, r_{xy}>\\frac{1}{2} =>$ <br>\n",
    "Значения связаны линейно $=>$<br>\n",
    "Между zp и ks сильная прямая корреляционная связь. При возрастании xp - возрастает ks и при убывании zp - убывает ks."
   ]
  },
  {
   "cell_type": "markdown",
   "id": "3363c876",
   "metadata": {},
   "source": [
    "__2. Измерены значения IQ выборки студентов,\n",
    "обучающихся в местных технических вузах:<br>\n",
    "131, 125, 115, 122, 131, 115, 107, 99, 125, 111.<br>\n",
    "Известно, что в генеральной совокупности IQ распределен нормально.\n",
    "Найдите доверительный интервал для математического ожидания с надежностью 0.95.__"
   ]
  },
  {
   "cell_type": "markdown",
   "id": "da5fa49d",
   "metadata": {},
   "source": [
    "$p=0.95 => \\alpha = 1-p = 0.05$<br>\n",
    "$n=10$<br>\n",
    "$[Xв - K \\cdot Ст.ош.ср; Xв - K \\cdot Ст.ош.ср]$<br>\n",
    "1) Неизвестна $\\sigma$ => небыло анализа ГС.<br>\n",
    "2) Из пункта 1) => критерий оценки K это критерий <font color = red>Стьюдента t</font><br>\n",
    "$K=n-1 => K=10-1=9$<br>\n",
    "3) Из 1) => $Ст.ош.ср. = \\dfrac{s}{\\sqrt{n}}$, где<br>\n",
    "$s = \\sqrt{D(x)}$, где<br>\n",
    "$\\sqrt{D(x)}$ - несмещенная оценка дисперсии, выполненная <font color = red>по выборке</font><br>\n",
    "4) Испытания выполнены с одинаковой точностью => ГС распределена нормально<br>\n",
    "5) Из 4) =>  от $\\alpha$ переходим к $\\frac{\\alpha} { 2}$<br>\n",
    "6) $X_в = \\dfrac{1}{n} \\cdot \\sum_{i=1}^{n}X_i$"
   ]
  },
  {
   "cell_type": "code",
   "execution_count": 4,
   "id": "4d3d9348",
   "metadata": {},
   "outputs": [
    {
     "name": "stdout",
     "output_type": "stream",
     "text": [
      "Xв = 118.1000\n"
     ]
    }
   ],
   "source": [
    "x = [131, 125, 115, 122, 131, 115, 107, 99, 125, 111]\n",
    "Xv = sum(x) / len(x)\n",
    "print(f'Xв ={Xv: .4f}')"
   ]
  },
  {
   "cell_type": "markdown",
   "id": "6b133768",
   "metadata": {},
   "source": [
    "7) $s=\\sqrt{\\frac{1}{n-1}\\cdot \\sum_{i=1}^{n}(X_i-X_в)^2}$"
   ]
  },
  {
   "cell_type": "code",
   "execution_count": 5,
   "id": "42b07193",
   "metadata": {},
   "outputs": [
    {
     "name": "stdout",
     "output_type": "stream",
     "text": [
      "s =  10.5457\n"
     ]
    }
   ],
   "source": [
    "s = math.sqrt(sum(map(lambda x: (x - Xv) ** 2, x)) / (10 - 1))\n",
    "\n",
    "print(f's = {s: .4f}')"
   ]
  },
  {
   "cell_type": "markdown",
   "id": "3f7e92d3",
   "metadata": {},
   "source": [
    "8) $K_{\\frac{\\alpha}{2}}=Z_{\\frac{\\alpha}{2}}$(из таблицы <font color = red>Стьюдента</font>)<br>\n",
    "находим вероятность $p=1-\\frac{\\alpha}{2}$ (<font color = red>для $n-1$</font>)<br>\n",
    "$Z_{\\frac{\\alpha}{2}} = K_{\\frac{\\alpha}{2}} = 2.262$\n"
   ]
  },
  {
   "cell_type": "code",
   "execution_count": 6,
   "id": "42b200da",
   "metadata": {},
   "outputs": [
    {
     "name": "stdout",
     "output_type": "stream",
     "text": [
      "[ 110.5566;  125.6434]\n"
     ]
    }
   ],
   "source": [
    "print(f'[{Xv - 2.262 * (s / math.sqrt(10)): .4f}; {Xv + 2.262 * (s / math.sqrt(10)): .4f}]')"
   ]
  },
  {
   "cell_type": "markdown",
   "id": "e8275926",
   "metadata": {},
   "source": [
    "$[Xв - K \\cdot Ст.ош.ср; Xв - K \\cdot Ст.ош.ср]=[110.5566;  125.6434]$<br>"
   ]
  },
  {
   "cell_type": "markdown",
   "id": "01876db9",
   "metadata": {},
   "source": [
    "Вывод: $[ 110.5566;  125.6434]$ этот интервал покрывает истенное значение $X$ с доверительной вероятностью $95$%."
   ]
  },
  {
   "cell_type": "markdown",
   "id": "09b7538d",
   "metadata": {},
   "source": [
    "__3. Известно, что рост футболистов в сборной распределен нормально\n",
    "с дисперсией генеральной совокупности, равной 25 кв.см. Объем выборки равен 27,\n",
    "среднее выборочное составляет 174.2. Найдите доверительный интервал для математического\n",
    "ожидания с надежностью 0.95.__"
   ]
  },
  {
   "cell_type": "markdown",
   "id": "eb49d6f6",
   "metadata": {},
   "source": [
    "Дано:<br>\n",
    "$\\sigma = 5$<br>\n",
    "$M(x) = a$<br>\n",
    "$p = 0.95$<br>\n",
    "$Xв. = 174.2$<br>\n",
    "$n = 27$<br>"
   ]
  },
  {
   "cell_type": "markdown",
   "id": "60cf2710",
   "metadata": {},
   "source": [
    "1) Уже были выполнен анализ ГС известно $\\sigma$, значит критерий оценки $K$ является <font color = red>критерием Фишера</font> $Z$ из таблицы распределения <font color = red>Лапласа</font><br>\n",
    "2) Надежность 0.95 => $p = 0.95$<br>\n",
    "$\\alpha = 1 - p => \\alpha = 0.05$<br>\n",
    "3) ГС распределена нормально => можем от $\\alpha$ перейти к $\\frac{\\alpha} { 2}$<br>\n",
    "$\\alpha / 2 = 0.05 / 2 = 0.025$<br>\n",
    "4) Из 1) => $Ст.ош.ср. = \\sigma / \\sqrt{n}$<br>\n",
    "$[X_{в.} - Z_{\\alpha/2} \\cdot \\dfrac{\\sigma}{\\sqrt{n}};X_{в.} + Z_{\\alpha/2} \\cdot \\dfrac{\\sigma}{\\sqrt{n}}]$<br>\n",
    "$Z(p=0.025)=Z(\\alpha /2=0.025)=-1.96$<br>\n"
   ]
  },
  {
   "cell_type": "code",
   "execution_count": 9,
   "id": "754a3bb0",
   "metadata": {},
   "outputs": [
    {
     "name": "stdout",
     "output_type": "stream",
     "text": [
      "[174.2 - 1.96(sigma/sqrt(27)); 174.2 + 1.96(sigma/sqrt(27))] = [ 168.1648;  180.2352]\n"
     ]
    }
   ],
   "source": [
    "a=math.sqrt(27)\n",
    "print(f'[174.2 - 1.96(sigma/sqrt(27)); 174.2 + 1.96(sigma/sqrt(27))] = [{174.2 - 1.96 * (16. / a): .4f}; {174.2 + 1.96 * (16. / a): .4f}]')"
   ]
  },
  {
   "cell_type": "markdown",
   "id": "8965a2ff",
   "metadata": {},
   "source": [
    "Вывод: $[168.1648;  180.2352]$ - этот интервал с вероятностью 95% покрывает истенное $M(x)=a$ генеральной совокупности."
   ]
  }
 ],
 "metadata": {
  "kernelspec": {
   "display_name": "Python 3 (ipykernel)",
   "language": "python",
   "name": "python3"
  },
  "language_info": {
   "codemirror_mode": {
    "name": "ipython",
    "version": 3
   },
   "file_extension": ".py",
   "mimetype": "text/x-python",
   "name": "python",
   "nbconvert_exporter": "python",
   "pygments_lexer": "ipython3",
   "version": "3.9.7"
  }
 },
 "nbformat": 4,
 "nbformat_minor": 5
}
