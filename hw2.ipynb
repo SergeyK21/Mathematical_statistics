{
 "cells": [
  {
   "cell_type": "code",
   "execution_count": 1,
   "id": "0da8e47c",
   "metadata": {},
   "outputs": [],
   "source": [
    "import numpy as np\n",
    "from math import factorial\n",
    "def combinations(n, k):\n",
    "    return factorial(n) // (factorial(k) * factorial(n - k))\n",
    "    \n",
    "def arrangements(n, k):\n",
    "    return factorial(n) // factorial(n - k)\n",
    "\n",
    "def permutations(n):\n",
    "    return factorial(n)\n",
    "\n",
    "def bernoulli (k, n, p, q):\n",
    "    return combinations(n, k) * (p ** k) * (q ** (n - k))\n",
    "\n",
    "def poison_m (n, p, m):\n",
    "    l = n * p\n",
    "    e = 2.72\n",
    "    return (l ** m / factorial(m)) * (e ** -l)"
   ]
  },
  {
   "cell_type": "markdown",
   "id": "7c7374d1",
   "metadata": {},
   "source": [
    "1. Вероятность того, что стрелок попадет в мишень, выстрелив один раз, равна 0.8. Стрелок выстрелил 100 раз. Найдите вероятность того, что стрелок попадет в цель ровно 85 раз."
   ]
  },
  {
   "cell_type": "code",
   "execution_count": 2,
   "id": "38ec4326",
   "metadata": {},
   "outputs": [
    {
     "name": "stdout",
     "output_type": "stream",
     "text": [
      "0.0481\n"
     ]
    }
   ],
   "source": [
    "p = 0.8\n",
    "n = 100\n",
    "q = 1 - p\n",
    "k = 85\n",
    "\n",
    "print('{:.4f}'.format(bernoulli(k, n, p, q)))"
   ]
  },
  {
   "cell_type": "markdown",
   "id": "ee4c19de",
   "metadata": {},
   "source": [
    "2. Вероятность того, что лампочка перегорит в течение первого дня эксплуатации, равна 0.0004. В жилом комплексе после ремонта в один день включили 5000 новых лампочек. Какова вероятность, что ни одна из них не перегорит в первый день? Какова вероятность, что перегорят ровно две?"
   ]
  },
  {
   "cell_type": "code",
   "execution_count": 3,
   "id": "b2938732",
   "metadata": {},
   "outputs": [
    {
     "name": "stdout",
     "output_type": "stream",
     "text": [
      "0.135\n",
      "0.270\n"
     ]
    }
   ],
   "source": [
    "p = 0.0004\n",
    "n = 5000\n",
    "m1 = 0\n",
    "m2 = 2\n",
    "\n",
    "a = poison_m(n, p, m1) # лямбда и е расчитываются внутри формулы\n",
    "b = poison_m(n, p, m2)\n",
    "\n",
    "print('{:.3f}'.format(a))\n",
    "print('{:.3f}'.format(b))"
   ]
  },
  {
   "cell_type": "markdown",
   "id": "ac8c6d92",
   "metadata": {},
   "source": [
    "3. Монету подбросили 144 раза. Какова вероятность, что орел выпадет ровно 70 раз?"
   ]
  },
  {
   "cell_type": "code",
   "execution_count": 4,
   "id": "09b947b5",
   "metadata": {},
   "outputs": [
    {
     "name": "stdout",
     "output_type": "stream",
     "text": [
      "0.0628\n"
     ]
    }
   ],
   "source": [
    "p = 0.5\n",
    "n = 144\n",
    "q = 1 - p\n",
    "k = 70\n",
    "\n",
    "print('{:.4f}'.format(bernoulli(k, n, p, q)))"
   ]
  },
  {
   "cell_type": "markdown",
   "id": "65e83e13",
   "metadata": {},
   "source": [
    "4. В первом ящике находится 10 мячей, из которых 7 - белые. Во втором ящике - 11 мячей, из которых 9 белых. Из каждого ящика вытаскивают случайным образом по два мяча. Какова вероятность того, что все мячи белые? Какова вероятность того, что ровно два мяча белые? Какова вероятность того, что хотя бы один мяч белый?"
   ]
  },
  {
   "cell_type": "code",
   "execution_count": 5,
   "id": "9b3ee711",
   "metadata": {},
   "outputs": [
    {
     "name": "stdout",
     "output_type": "stream",
     "text": [
      "0.3055\n",
      "0.2048\n",
      "0.9976\n"
     ]
    }
   ],
   "source": [
    "# при выборе 2 шаров из первого ящика\n",
    "n1 = combinations(10,2)\n",
    "# при выборе 2 шаров из второго ящика\n",
    "n2 = combinations(11,2)\n",
    "\n",
    "x0 = combinations(3,2)\n",
    "x1 = combinations(7,1) * combinations(3,1)\n",
    "x2 = combinations(7,2)\n",
    "y0 = combinations(2,2)\n",
    "y1 = combinations(9,1) * combinations(2,1)\n",
    "y2 = combinations(9,2)\n",
    "\n",
    "p1 = (x2 / n1) * (y2 / n2)\n",
    "p2 = ((x2 / n1) * (y0 / n2)) + ((x1 / n1) * (y1 / n2)) + ((x0 / n1) * (y2 / n2))\n",
    "p3 = 1 - (((x0 / n1) * (y0 / n2)) + ((x0 / n1) * (y0 / n2)))\n",
    "\n",
    "print('{:.4f}'.format(p1))\n",
    "print('{:.4f}'.format(p2))\n",
    "print('{:.4f}'.format(p3))"
   ]
  }
 ],
 "metadata": {
  "kernelspec": {
   "display_name": "Python 3 (ipykernel)",
   "language": "python",
   "name": "python3"
  },
  "language_info": {
   "codemirror_mode": {
    "name": "ipython",
    "version": 3
   },
   "file_extension": ".py",
   "mimetype": "text/x-python",
   "name": "python",
   "nbconvert_exporter": "python",
   "pygments_lexer": "ipython3",
   "version": "3.9.7"
  }
 },
 "nbformat": 4,
 "nbformat_minor": 5
}
