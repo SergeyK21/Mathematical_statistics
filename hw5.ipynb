{
 "cells": [
  {
   "cell_type": "code",
   "execution_count": 1,
   "id": "7b86d54e",
   "metadata": {},
   "outputs": [],
   "source": [
    "import math"
   ]
  },
  {
   "cell_type": "markdown",
   "id": "61d5f19b",
   "metadata": {},
   "source": [
    "__1. Известно, что генеральная совокупность распределена нормально\n",
    "со средним квадратическим отклонением, равным 16.\n",
    "Найти доверительный интервал для оценки математического ожидания a с надежностью 0.95,\n",
    "если выборочная средняя M = 80, а объем выборки n = 256.__ \n",
    "\n"
   ]
  },
  {
   "cell_type": "markdown",
   "id": "85ba8ae0",
   "metadata": {},
   "source": [
    "Дано:<br>\n",
    "$\\sigma = 16$<br>\n",
    "$M(x) = a$<br>\n",
    "$p = 0.95$<br>\n",
    "$Xв. = 80$<br>\n",
    "$n = 256$<br>\n"
   ]
  },
  {
   "cell_type": "markdown",
   "id": "31d0988f",
   "metadata": {},
   "source": [
    "1) Уже были выполнен анализ ГС известно $\\sigma$, значит критерий оценки $K$ является <font color = red>критерием Фишера</font> $Z$ из таблицы распределения <font color = red>Лапласа</font><br>\n",
    "2) Надежность 0.95 => $p = 0.95$<br>\n",
    "$\\alpha = 1 - p => \\alpha = 0.05$<br>\n",
    "3) ГС распределена нормально => можем от $\\alpha$ перейти к $\\frac{\\alpha} { 2}$<br>\n",
    "$\\alpha / 2 = 0.05 / 2 = 0.025$<br>\n",
    "4) Из 1) => $Ст.ош.ср. = \\sigma / \\sqrt{n}$<br>\n",
    "$[X_{в.} - Z_{\\alpha/2} \\cdot \\dfrac{\\sigma}{\\sqrt{n}};X_{в.} + Z_{\\alpha/2} \\cdot \\dfrac{\\sigma}{\\sqrt{n}}]$<br>\n",
    "$Z(p=0.025)=Z(\\alpha /2=0.025)=-1.96$<br>\n"
   ]
  },
  {
   "cell_type": "code",
   "execution_count": 2,
   "id": "374b209d",
   "metadata": {},
   "outputs": [
    {
     "name": "stdout",
     "output_type": "stream",
     "text": [
      "[80 - 1.96(sigma/sqrt(256)); 80 - 1.96(sigma/sqrt(256))] = [78.04; 81.96]\n"
     ]
    }
   ],
   "source": [
    "a=math.sqrt(256)\n",
    "print(f'[80 - 1.96(sigma/sqrt(256)); 80 - 1.96(sigma/sqrt(256))] = [{80. - 1.96 * (16. / a)}; {80. + 1.96 * (16. / a)}]')"
   ]
  },
  {
   "cell_type": "markdown",
   "id": "f8c40494",
   "metadata": {},
   "source": [
    "Вывод: $[78.04; 81.96]$ - этот интервал с вероятностью 95% покрывает истенное $M(x)=a$ генеральной совокупности."
   ]
  },
  {
   "cell_type": "markdown",
   "id": "027a8cef",
   "metadata": {},
   "source": [
    "__2. В результате 10 независимых измерений некоторой величины X, выполненных с одинаковой точностью,\n",
    "получены опытные данные:<br>\n",
    "6.9, 6.1, 6.2, 6.8, 7.5, 6.3, 6.4, 6.9, 6.7, 6.1<br>\n",
    "Предполагая, что результаты измерений подчинены нормальному закону распределения вероятностей,\n",
    "оценить истинное значение величины X при помощи доверительного интервала, покрывающего это\n",
    "значение с доверительной вероятностью 0,95.__"
   ]
  },
  {
   "cell_type": "markdown",
   "id": "47650db2",
   "metadata": {},
   "source": [
    "$p=0.95 => \\alpha = 1-p = 0.05$<br>\n",
    "$n=10$<br>\n",
    "$[Xв - K \\cdot Ст.ош.ср; Xв - K \\cdot Ст.ош.ср]$<br>\n",
    "1) Неизвестна $\\sigma$ => небыло анализа ГС.<br>\n",
    "2) Из пункта 1) => критерий оценки K это критерий <font color = red>Стьюдента t</font><br>\n",
    "$K=n-1 => K=10-1=9$<br>\n",
    "3) Из 1) => $Ст.ош.ср. = \\dfrac{s}{\\sqrt{n}}$, где<br>\n",
    "$s = \\sqrt{D(x)}$, где<br>\n",
    "$\\sqrt{D(x)}$ - несмещенная оценка дисперсии, выполненная <font color = red>по выборке</font><br>\n",
    "4) Испытания выполнены с одинаковой точностью => ГС распределена нормально<br>\n",
    "5) Из 4) =>  от $\\alpha$ переходим к $\\frac{\\alpha} { 2}$<br>\n",
    "6) $X_в = \\dfrac{1}{n} \\cdot \\sum_{i=1}^{n}X_i$"
   ]
  },
  {
   "cell_type": "code",
   "execution_count": 3,
   "id": "9cad592a",
   "metadata": {},
   "outputs": [
    {
     "name": "stdout",
     "output_type": "stream",
     "text": [
      "Xв = 6.5900\n"
     ]
    }
   ],
   "source": [
    "x = [6.9, 6.1, 6.2, 6.8, 7.5, 6.3, 6.4, 6.9, 6.7, 6.1]\n",
    "Xv = sum(x) / len(x)\n",
    "print(f'Xв ={Xv: .4f}')"
   ]
  },
  {
   "cell_type": "markdown",
   "id": "c4754eb7",
   "metadata": {},
   "source": [
    "7) $s=\\sqrt{\\frac{1}{n-1}\\cdot \\sum_{i=1}^{n}(X_i-X_в)^2}$"
   ]
  },
  {
   "cell_type": "code",
   "execution_count": 4,
   "id": "303f86a0",
   "metadata": {},
   "outputs": [
    {
     "name": "stdout",
     "output_type": "stream",
     "text": [
      "s =  0.4508\n"
     ]
    }
   ],
   "source": [
    "s = math.sqrt(sum(map(lambda x: (x - Xv) ** 2, x)) / (10 - 1))\n",
    "\n",
    "print(f's = {s: .4f}')"
   ]
  },
  {
   "cell_type": "markdown",
   "id": "80f14b15",
   "metadata": {},
   "source": [
    "8) $K_{\\frac{\\alpha}{2}}=Z_{\\frac{\\alpha}{2}}$(из таблицы <font color = red>Стьюдента</font>)<br>\n",
    "находим вероятность $p=1-\\frac{\\alpha}{2}$ (<font color = red>для $n-1$</font>)<br>\n",
    "$Z_{\\frac{\\alpha}{2}} = K_{\\frac{\\alpha}{2}} = 2.262$\n"
   ]
  },
  {
   "cell_type": "code",
   "execution_count": 5,
   "id": "18e1726d",
   "metadata": {},
   "outputs": [
    {
     "name": "stdout",
     "output_type": "stream",
     "text": [
      "[ 6.2675;  6.9125]\n"
     ]
    }
   ],
   "source": [
    "print(f'[{6.59 - 2.262 * (s / math.sqrt(10)): .4f}; {6.59 + 2.262 * (s / math.sqrt(10)): .4f}]')"
   ]
  },
  {
   "cell_type": "markdown",
   "id": "b08c401e",
   "metadata": {},
   "source": [
    "$[Xв - K \\cdot Ст.ош.ср; Xв - K \\cdot Ст.ош.ср]=[ 6.2675;  6.9125]$<br>"
   ]
  },
  {
   "cell_type": "markdown",
   "id": "a64c9e52",
   "metadata": {},
   "source": [
    "Вывод: $[ 6.2675;  6.9125]$ этот интервал покрывает истенное значение $X$ с доверительной вероятностью $95$%."
   ]
  },
  {
   "cell_type": "markdown",
   "id": "77051f84",
   "metadata": {},
   "source": [
    "__3. Утверждается, что шарики для подшипников, изготовленные автоматическим станком, имеют средний диаметр 17 мм.\n",
    "Используя односторонний критерий с α=0,05, проверить эту гипотезу, если в выборке из n=100 шариков средний диаметр\n",
    "оказался равным 17.5 мм, а дисперсия известна и равна 4 мм.__"
   ]
  },
  {
   "cell_type": "markdown",
   "id": "a2f271df",
   "metadata": {},
   "source": [
    "Дано:<br>\n",
    "$\\mu_0=17$<br>\n",
    "$\\mu=17.5$<br>\n",
    "$n=100$<br>\n",
    "$D(x)=4$<br>\n",
    "$\\alpha=5$%"
   ]
  },
  {
   "cell_type": "code",
   "execution_count": 6,
   "id": "fb61e1c1",
   "metadata": {},
   "outputs": [],
   "source": [
    "m0 = 17\n",
    "m = 17.5\n",
    "n = 100\n",
    "# D(x)=4\n",
    "sigma = 2\n",
    "alpha = 0.05"
   ]
  },
  {
   "cell_type": "markdown",
   "id": "f30a695a",
   "metadata": {},
   "source": [
    "1)<br> $H_0 : \\mu=\\mu_0$<br>\n",
    "$H_1 : \\mu > \\mu_0$<br>\n",
    "Если $K_{расч.} > K_{табл.}$, то отвергаем $H_0$, принимаем $H_1$.<br>\n",
    "2) Известна $D(x)$ из ГС => можем найти $\\sigma$ из ГС<br>\n",
    "$\\sigma = \\sqrt{D(x)} = 2$<br>\n",
    "3) Из 2) => Критерий оцнки $K$ равняется критерию <font color = red>Фишера $Z$</font> и находится по таблице <font color = red>Лапласа</font> для <font color = red>$x>0$</font>.\n",
    "4) Анализируем гипотезы => $K_{расч.}=Z_{расч.}=\\frac{\\mu-\\mu_0}{\\frac{\\sigma}{\\sqrt{n}}}$"
   ]
  },
  {
   "cell_type": "code",
   "execution_count": 7,
   "id": "503ae365",
   "metadata": {},
   "outputs": [
    {
     "name": "stdout",
     "output_type": "stream",
     "text": [
      "Zрасч. = 2.5\n"
     ]
    }
   ],
   "source": [
    "print(f'Zрасч. = {(m - m0) * math.sqrt(n) / sigma}')"
   ]
  },
  {
   "cell_type": "markdown",
   "id": "586c6fa3",
   "metadata": {},
   "source": [
    "$K_{табл.}=Z_{табл.}=Z(p=1-\\alpha)=Z(p=0.95)=1.65$"
   ]
  },
  {
   "cell_type": "markdown",
   "id": "6e195850",
   "metadata": {},
   "source": [
    "Вывод: $K_{расч.} > K_{табл.}$ => отвергаем $H_0$, принимаем $H_1$."
   ]
  },
  {
   "cell_type": "markdown",
   "id": "0b401afc",
   "metadata": {},
   "source": [
    "__4. Продавец утверждает, что средний вес пачки печенья составляет 200 г.\n",
    "Из партии извлечена выборка из 10 пачек. Вес каждой пачки составляет:<br>\n",
    "202, 203, 199, 197, 195, 201, 200, 204, 194, 190.<br>\n",
    "Известно, что их веса распределены нормально.\n",
    "Верно ли утверждение продавца, если учитывать, что доверительная вероятность равна 99%?__"
   ]
  },
  {
   "cell_type": "code",
   "execution_count": 8,
   "id": "057fef36",
   "metadata": {},
   "outputs": [
    {
     "name": "stdout",
     "output_type": "stream",
     "text": [
      "m = 198.5\n"
     ]
    }
   ],
   "source": [
    "x = [202, 203, 199, 197, 195, 201, 200, 204, 194, 190]\n",
    "\n",
    "alpha = 0.01\n",
    "n = 10\n",
    "m0 = 200\n",
    "m = sum(x) / len(x)\n",
    "print(f'm = {m}')"
   ]
  },
  {
   "cell_type": "markdown",
   "id": "6fb2e095",
   "metadata": {},
   "source": [
    "Дано:<br>\n",
    "$\\alpha=1$%<br>\n",
    "$n=10$<br>\n",
    "$\\mu_0=200$<br>\n",
    "$\\mu = 198.5$"
   ]
  },
  {
   "cell_type": "markdown",
   "id": "9e514ff7",
   "metadata": {},
   "source": [
    "1)<br>\n",
    "$H_0 : \\mu=\\mu_0$<br>\n",
    "$H_1 : \\mu \\not= \\mu_0$<br>\n",
    "Неизвестно $\\sigma$ => не было анализа ГС<br>\n",
    "2) Из 1) => за критерий оценки $K$ возьмем критерий <font color = red>Стьюдента</font> из таблицы <font color = red>Стьюдента</font><br>\n",
    "3) Из 1) => <font color = red>$Ст.ош.ср. = \\frac{s}{\\sqrt{n}}$</font>,<br>\n",
    "где $s$ - среднеквадратичное отклонение от несмещенной оценки дисперсии <font color = red>выборки</font>.<br>\n",
    "$s=\\sqrt{\\frac{1}{n-1}\\cdot \\sum_{i=1}^{n}(X_i-X_в)^2}$"
   ]
  },
  {
   "cell_type": "code",
   "execution_count": 9,
   "id": "bb3ca3ce",
   "metadata": {},
   "outputs": [
    {
     "name": "stdout",
     "output_type": "stream",
     "text": [
      "s =  4.4535\n"
     ]
    }
   ],
   "source": [
    "s = math.sqrt(sum(map(lambda x: (x - m) ** 2, x)) / (n - 1))\n",
    "\n",
    "print(f's = {s: .4f}')"
   ]
  },
  {
   "cell_type": "markdown",
   "id": "52d5acb6",
   "metadata": {},
   "source": [
    "4) $K_{расч.}=Z_{расч.}=\\frac{|\\mu-\\mu_0|}{\\frac{s}{\\sqrt{n}}}$"
   ]
  },
  {
   "cell_type": "code",
   "execution_count": 10,
   "id": "11abe41e",
   "metadata": {},
   "outputs": [
    {
     "name": "stdout",
     "output_type": "stream",
     "text": [
      "Kрасч. = 1.0651074037450896\n"
     ]
    }
   ],
   "source": [
    "print(f'Kрасч. = {abs(m - m0) * math.sqrt(n) /s}')"
   ]
  },
  {
   "cell_type": "markdown",
   "id": "97960164",
   "metadata": {},
   "source": [
    "$K_{табл.}($<font color = red>для $n-1$</font>$)=Z_{табл.}=Z(p=1-\\alpha)=Z(p=0.99)=2.821$"
   ]
  },
  {
   "cell_type": "markdown",
   "id": "2660c33f",
   "metadata": {},
   "source": [
    "Вывод: $K_{расч.}<K_{табл.}$ => принимаем гипотезу $H_0$ "
   ]
  }
 ],
 "metadata": {
  "kernelspec": {
   "display_name": "Python 3 (ipykernel)",
   "language": "python",
   "name": "python3"
  },
  "language_info": {
   "codemirror_mode": {
    "name": "ipython",
    "version": 3
   },
   "file_extension": ".py",
   "mimetype": "text/x-python",
   "name": "python",
   "nbconvert_exporter": "python",
   "pygments_lexer": "ipython3",
   "version": "3.9.7"
  }
 },
 "nbformat": 4,
 "nbformat_minor": 5
}
